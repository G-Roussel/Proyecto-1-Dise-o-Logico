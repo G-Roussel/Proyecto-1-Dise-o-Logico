{
 "cells": [
  {
   "cell_type": "markdown",
   "id": "28b87cc4",
   "metadata": {},
   "source": [
    "Pasos a seguir\n",
    "https://www.youtube.com/watch?v=bk0s7hTk79k&ab_channel=Massencillo\n",
    "\n",
    "Codigo guia\n",
    "https://python.algorithmexamples.com/web/boolean_algebra/quine_mc_cluskey.html"
   ]
  },
  {
   "cell_type": "code",
   "execution_count": 1,
   "id": "1504a919",
   "metadata": {},
   "outputs": [
    {
     "name": "stdout",
     "output_type": "stream",
     "text": [
      "hola mundo\n"
     ]
    }
   ],
   "source": [
    "print('hola mundo')"
   ]
  },
  {
   "cell_type": "code",
   "execution_count": 2,
   "id": "e2f0715d",
   "metadata": {
    "scrolled": true
   },
   "outputs": [
    {
     "name": "stdout",
     "output_type": "stream",
     "text": [
      "Enter the no. of variables\n",
      "4\n",
      "Enter the decimal representation of Minterms 'Spaces Seprated'\n",
      "1 2 5 7\n",
      "Prime Implicants are:\n",
      "['0010', '01_1', '0_01']\n",
      "Essential Prime Implicants are:\n",
      "['0010', '01_1', '0_01']\n"
     ]
    }
   ],
   "source": []
  },
  {
   "cell_type": "code",
   "execution_count": null,
   "id": "c10172cb",
   "metadata": {},
   "outputs": [],
   "source": []
  }
 ],
 "metadata": {
  "kernelspec": {
   "display_name": "Python 3 (ipykernel)",
   "language": "python",
   "name": "python3"
  },
  "language_info": {
   "codemirror_mode": {
    "name": "ipython",
    "version": 3
   },
   "file_extension": ".py",
   "mimetype": "text/x-python",
   "name": "python",
   "nbconvert_exporter": "python",
   "pygments_lexer": "ipython3",
   "version": "3.9.12"
  }
 },
 "nbformat": 4,
 "nbformat_minor": 5
}
